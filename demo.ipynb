{
  "nbformat": 4,
  "nbformat_minor": 0,
  "metadata": {
    "colab": {
      "provenance": [],
      "authorship_tag": "ABX9TyPcvL5R9idpSihMFZIGWg+5"
    },
    "kernelspec": {
      "name": "python3",
      "display_name": "Python 3"
    },
    "language_info": {
      "name": "python"
    }
  },
  "cells": [
    {
      "cell_type": "code",
      "source": [
        "from netsuite_status_code_mapping import netsuite_status_mapping"
      ],
      "metadata": {
        "id": "YwmVdcf1TvaV"
      },
      "execution_count": 4,
      "outputs": []
    },
    {
      "cell_type": "code",
      "execution_count": 5,
      "metadata": {
        "id": "NFEbhBiASt09"
      },
      "outputs": [],
      "source": [
        "d = {'trandisplayname': 'Bill #1234',\n",
        "     'recordtype': 'vendorbill',\n",
        "     'type': 'VendBill',\n",
        "     'status': 'A'\n",
        "     }"
      ]
    },
    {
      "cell_type": "code",
      "source": [
        "netsuite_status_mapping(d)"
      ],
      "metadata": {
        "colab": {
          "base_uri": "https://localhost:8080/",
          "height": 35
        },
        "id": "iYOKKeUMT2TG",
        "outputId": "a478b4b6-20a8-4c04-84f0-68b286260c3d"
      },
      "execution_count": 6,
      "outputs": [
        {
          "output_type": "execute_result",
          "data": {
            "text/plain": [
              "'Open'"
            ],
            "application/vnd.google.colaboratory.intrinsic+json": {
              "type": "string"
            }
          },
          "metadata": {},
          "execution_count": 6
        }
      ]
    }
  ]
}